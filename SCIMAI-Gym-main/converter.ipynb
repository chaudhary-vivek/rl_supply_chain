{
 "cells": [
  {
   "cell_type": "code",
   "execution_count": null,
   "id": "e5595af8",
   "metadata": {},
   "outputs": [],
   "source": [
    "import nbformat\n",
    "from nbconvert import PythonExporter\n",
    "\n",
    "with open(\"the_notebook.ipynb\", \"r\", encoding=\"utf-8\") as f:\n",
    "    notebook = nbformat.read(f, as_version=4)\n",
    "\n",
    "exporter = PythonExporter()\n",
    "python_code, _ = exporter.from_notebook_node(notebook)\n",
    "\n",
    "with open(\"the_notebook.py\", \"w\", encoding=\"utf-8\") as f:\n",
    "    f.write(python_code)\n"
   ]
  }
 ],
 "metadata": {
  "kernelspec": {
   "display_name": "rl",
   "language": "python",
   "name": "python3"
  },
  "language_info": {
   "codemirror_mode": {
    "name": "ipython",
    "version": 3
   },
   "file_extension": ".py",
   "mimetype": "text/x-python",
   "name": "python",
   "nbconvert_exporter": "python",
   "pygments_lexer": "ipython3",
   "version": "3.7.0"
  }
 },
 "nbformat": 4,
 "nbformat_minor": 5
}
